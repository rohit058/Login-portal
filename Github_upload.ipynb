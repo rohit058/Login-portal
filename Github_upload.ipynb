{
  "nbformat": 4,
  "nbformat_minor": 0,
  "metadata": {
    "colab": {
      "provenance": []
    },
    "kernelspec": {
      "name": "python3",
      "display_name": "Python 3"
    },
    "language_info": {
      "name": "python"
    }
  },
  "cells": [
    {
      "cell_type": "code",
      "source": [
        "import numpy as np\n",
        "import pandas as pd\n",
        "import matplotlib.pyplot as plt\n",
        "import seaborn as sns\n",
        "import warnings\n",
        "warnings.filterwarnings('ignore')"
      ],
      "metadata": {
        "id": "kYhLeusp4cHe"
      },
      "execution_count": null,
      "outputs": []
    },
    {
      "cell_type": "markdown",
      "source": [
        "**Login portal**"
      ],
      "metadata": {
        "id": "U0_IHqR35i0d"
      }
    },
    {
      "cell_type": "code",
      "execution_count": null,
      "metadata": {
        "colab": {
          "base_uri": "https://localhost:8080/"
        },
        "id": "gNro_PCJz0Do",
        "outputId": "5bedbad7-8299-497c-c807-7380d23c4b10"
      },
      "outputs": [
        {
          "output_type": "stream",
          "name": "stdout",
          "text": [
            "Welcome back\n",
            "Please enter your username and password carefully to logged in.\n",
            "Only 3 chanches will be given otherwish it will be locked\n",
            "Please enter Username: rohit\n",
            "Please enter Password: 1234\n",
            "You are now successfully logged in\n",
            "Please wait we are redirecting you to the login portal...\n"
          ]
        }
      ],
      "source": [
        "\n",
        "attempt_count = 0\n",
        "set_user_name = \"rohit\"\n",
        "set_password = \"1234\"\n",
        "\n",
        "# Terms and conditions\n",
        "\n",
        "print(\"Welcome back\")\n",
        "print(\"Please enter your username and password carefully to logged in.\")\n",
        "print(\"Only 3 chanches will be given otherwish it will be locked\")\n",
        "\n",
        "while attempt_count < 3:\n",
        "    # Enter username and password\n",
        "    user_name = input(\"Please enter Username: \")\n",
        "    user_password = input(\"Please enter Password: \")\n",
        "    # Check if username and password are correct\n",
        "    attempt_count += 1\n",
        "    if (user_name == set_user_name) and (user_password == set_password):\n",
        "        print(\"You are now successfully logged in\")\n",
        "        print(\"Please wait we are redirecting you to the login portal...\")\n",
        "        break\n",
        "    else:\n",
        "        print(\"Username or Password incorrect.\")\n",
        "else:  # Aligned with the 'while' to indicate the end of the loop\n",
        "    print(\"All attempts are failed. Account is locked\")\n"
      ]
    }
  ]
}